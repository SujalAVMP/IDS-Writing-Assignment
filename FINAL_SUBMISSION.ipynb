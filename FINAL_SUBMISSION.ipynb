{
 "cells": [
  {
   "cell_type": "markdown",
   "metadata": {},
   "source": [
    "# CS 328 Writing Submission"
   ]
  },
  {
   "cell_type": "markdown",
   "metadata": {
    "vscode": {
     "languageId": "plaintext"
    }
   },
   "source": [
    "---"
   ]
  },
  {
   "cell_type": "markdown",
   "metadata": {
    "vscode": {
     "languageId": "plaintext"
    }
   },
   "source": [
    "## Setup"
   ]
  },
  {
   "cell_type": "code",
   "execution_count": null,
   "metadata": {},
   "outputs": [],
   "source": [
    "import pandas as pd\n",
    "import numpy as np\n",
    "import matplotlib.pyplot as plt\n",
    "import seaborn as sns\n",
    "import requests\n",
    "import io\n",
    "import os\n",
    "from tqdm import tqdm\n",
    "from scipy import stats\n",
    "import plotly.express as px\n",
    "import plotly.graph_objects as go\n",
    "import statsmodels.api as sm\n",
    "from plotly.subplots import make_subplots\n",
    "import matplotlib as mpl\n",
    "from linearmodels.panel import PanelOLS, RandomEffects, compare\n",
    "import warnings\n",
    "\n",
    "# Ignore warnings for cleaner output\n",
    "warnings.filterwarnings('ignore')\n",
    "\n",
    "\n",
    "# Set display options for better readability\n",
    "pd.set_option('display.max_columns', None)\n",
    "pd.set_option('display.width', 1000)\n",
    "\n",
    "# Set visualization styles\n",
    "plt.style.use('seaborn-v0_8-whitegrid')\n",
    "sns.set_palette(\"colorblind\")\n",
    "plt.rcParams['figure.figsize'] = (12, 8)\n",
    "plt.rcParams['font.size'] = 12\n",
    "\n",
    "# Create output directories if they don't exist\n",
    "os.makedirs('figures', exist_ok=True)\n",
    "os.makedirs('output', exist_ok=True)"
   ]
  },
  {
   "cell_type": "markdown",
   "metadata": {},
   "source": [
    "---"
   ]
  },
  {
   "cell_type": "markdown",
   "metadata": {},
   "source": [
    "## Data"
   ]
  },
  {
   "cell_type": "code",
   "execution_count": null,
   "metadata": {},
   "outputs": [],
   "source": [
    "# Define file paths (adjust as needed)\n",
    "file_income_wealth = \"WID_data/WID_Data_average national wealth per adult.csv\"\n",
    "file_wealth_inequality = \"WID_data/WID_Data_Wealth_Gini_coeff.csv\"\n",
    "file_income_inequality = \"WID_data/WID_Data_Income_Gini_coeff.csv\"\n",
    "file_wealth_to_income = \"WID_data/WID_Data_Net national wealth to Net National Income Ratio.csv\"\n",
    "\n",
    "# Read in the datasets\n",
    "df_income_wealth = pd.read_csv(file_income_wealth, header=1, sep=';')\n",
    "df_wealth_inequality = pd.read_csv(file_wealth_inequality, header=1, sep=';')\n",
    "df_income_inequality = pd.read_csv(file_income_inequality, header=1, sep=';')\n",
    "df_wealth_to_income = pd.read_csv(file_wealth_to_income, header=1, sep=';')\n",
    "\n",
    "# Define a function to reshape data from wide to long format\n",
    "def reshape_wid(df, value_column_name):\n",
    "    return df.melt(id_vars=['Percentile', 'Year'], var_name='Country', value_name=value_column_name)\n",
    "\n",
    "# Reshape each dataset\n",
    "df_income_long = reshape_wid(df_income_wealth, 'PerAdultIncome')\n",
    "df_wealth_ineq_long = reshape_wid(df_wealth_inequality, 'WealthInequality')\n",
    "df_income_ineq_long = reshape_wid(df_income_inequality, 'IncomeInequality')\n",
    "df_wealth_to_income_long = reshape_wid(df_wealth_to_income, 'WealthToIncomeRatio')"
   ]
  },
  {
   "cell_type": "code",
   "execution_count": null,
   "metadata": {},
   "outputs": [],
   "source": [
    "# Convert Year to numeric\n",
    "for df in [df_income_long, df_wealth_ineq_long, df_income_ineq_long, df_wealth_to_income_long]:\n",
    "    df['Year'] = pd.to_numeric(df['Year'], errors='coerce')\n",
    "\n",
    "# Filter for consistent percentiles:\n",
    "# - For Income Wealth and Wealth-to-Income, only \"pall\" is available.\n",
    "# - For Income Inequality and Wealth Inequality, choose \"pall\".\n",
    "df_income_long = df_income_long[df_income_long['Percentile'] == 'pall']\n",
    "df_wealth_to_income_long = df_wealth_to_income_long[df_wealth_to_income_long['Percentile'] == 'pall']\n",
    "df_income_ineq_long = df_income_ineq_long[df_income_ineq_long['Percentile'] == 'pall']\n",
    "df_wealth_ineq_long = df_wealth_ineq_long[df_wealth_ineq_long['Percentile'] == 'pall']\n",
    "\n",
    "# Drop the Percentile column since it is no longer needed\n",
    "df_income_long = df_income_long.drop(columns=['Percentile'])\n",
    "df_wealth_to_income_long = df_wealth_to_income_long.drop(columns=['Percentile'])\n",
    "df_income_ineq_long = df_income_ineq_long.drop(columns=['Percentile'])\n",
    "df_wealth_ineq_long = df_wealth_ineq_long.drop(columns=['Percentile'])\n",
    "\n",
    "# Clean country names (remove extra whitespace)\n",
    "for df in [df_income_long, df_wealth_ineq_long, df_income_ineq_long, df_wealth_to_income_long]:\n",
    "    df['Country'] = df['Country'].str.strip()\n",
    "\n",
    "\n",
    "df_merged = (df_income_long.merge(df_income_ineq_long, on=['Country','Year'], how='inner')\n",
    "                        .merge(df_wealth_ineq_long, on=['Country','Year'], how='inner')\n",
    "                        .merge(df_wealth_to_income_long, on=['Country','Year'], how='inner'))"
   ]
  },
  {
   "cell_type": "code",
   "execution_count": null,
   "metadata": {},
   "outputs": [],
   "source": [
    "# Set a MultiIndex for panel models\n",
    "df_panel = df_merged.set_index([\"Country\", \"Year\"])\n",
    "\n",
    "# Define exogenous variable with constant\n",
    "exog = sm.add_constant(df_panel[\"PerAdultIncome\"])\n",
    "\n",
    "# a) Fixed Effects Model with robust standard errors\n",
    "fe_model = PanelOLS(df_panel[\"IncomeInequality\"], exog, entity_effects=True)\n",
    "fe_results = fe_model.fit(cov_type='robust')\n",
    "print(\"Fixed Effects Model (PanelOLS):\")\n",
    "print(fe_results)\n",
    "\n",
    "# b) Random Effects Model\n",
    "re_model = RandomEffects(df_panel[\"IncomeInequality\"], exog)\n",
    "re_results = re_model.fit()\n",
    "print(\"\\nRandom Effects Model:\")\n",
    "print(re_results)\n",
    "\n",
    "# c) Model comparison (Hausman-type)\n",
    "comparison = compare({'FE': fe_results, 'RE': re_results})\n",
    "print(\"\\nModel Comparison:\")\n",
    "print(comparison)\n",
    "\n",
    "\n",
    "df_2020 = df_merged[df_merged[\"Year\"] == 2020].copy()\n",
    "ols_model = sm.OLS(df_2020[\"IncomeInequality\"], sm.add_constant(df_2020[\"PerAdultIncome\"]))\n",
    "ols_results = ols_model.fit()\n",
    "print(\"\\nCross-sectional OLS (2020) results:\")\n",
    "print(ols_results.summary())"
   ]
  },
  {
   "cell_type": "code",
   "execution_count": null,
   "metadata": {},
   "outputs": [],
   "source": []
  },
  {
   "cell_type": "code",
   "execution_count": null,
   "metadata": {},
   "outputs": [],
   "source": []
  },
  {
   "cell_type": "code",
   "execution_count": null,
   "metadata": {},
   "outputs": [],
   "source": []
  },
  {
   "cell_type": "code",
   "execution_count": null,
   "metadata": {},
   "outputs": [],
   "source": []
  },
  {
   "cell_type": "code",
   "execution_count": null,
   "metadata": {},
   "outputs": [],
   "source": []
  },
  {
   "cell_type": "code",
   "execution_count": null,
   "metadata": {},
   "outputs": [],
   "source": []
  },
  {
   "cell_type": "code",
   "execution_count": null,
   "metadata": {},
   "outputs": [],
   "source": []
  },
  {
   "cell_type": "code",
   "execution_count": null,
   "metadata": {},
   "outputs": [],
   "source": []
  },
  {
   "cell_type": "code",
   "execution_count": null,
   "metadata": {},
   "outputs": [],
   "source": []
  },
  {
   "cell_type": "code",
   "execution_count": null,
   "metadata": {},
   "outputs": [],
   "source": []
  },
  {
   "cell_type": "code",
   "execution_count": null,
   "metadata": {},
   "outputs": [],
   "source": []
  },
  {
   "cell_type": "code",
   "execution_count": null,
   "metadata": {},
   "outputs": [],
   "source": []
  },
  {
   "cell_type": "code",
   "execution_count": null,
   "metadata": {},
   "outputs": [],
   "source": []
  },
  {
   "cell_type": "code",
   "execution_count": null,
   "metadata": {},
   "outputs": [],
   "source": []
  },
  {
   "cell_type": "code",
   "execution_count": null,
   "metadata": {},
   "outputs": [],
   "source": []
  },
  {
   "cell_type": "code",
   "execution_count": null,
   "metadata": {},
   "outputs": [],
   "source": []
  },
  {
   "cell_type": "code",
   "execution_count": null,
   "metadata": {},
   "outputs": [],
   "source": []
  }
 ],
 "metadata": {
  "kernelspec": {
   "display_name": "DISS",
   "language": "python",
   "name": "python3"
  },
  "language_info": {
   "name": "python",
   "version": "3.12.9"
  }
 },
 "nbformat": 4,
 "nbformat_minor": 2
}
